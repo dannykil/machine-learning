{
 "cells": [
  {
   "cell_type": "code",
   "execution_count": 11,
   "id": "7eedc924-0d79-4166-8991-0c0dee28cc8d",
   "metadata": {},
   "outputs": [],
   "source": [
    "import myvertexai"
   ]
  },
  {
   "cell_type": "code",
   "execution_count": 13,
   "id": "e42ea300-784a-4bf5-a3e6-1fccb7aecd2c",
   "metadata": {},
   "outputs": [],
   "source": [
    "from vertexai.generative_models import GenerativeModel, GenerationConfig\n",
    "model = GenerativeModel(\"gemini-2.0-flash-lite-001\")"
   ]
  },
  {
   "cell_type": "code",
   "execution_count": 15,
   "id": "41195b97-36e3-4442-9180-c98be4e17ff3",
   "metadata": {},
   "outputs": [
    {
     "name": "stdout",
     "output_type": "stream",
     "text": [
      "The capital city of India is **New Delhi**.\n",
      "\n"
     ]
    }
   ],
   "source": [
    "res = model.generate_content(\"What is the capital city of India?\")\n",
    "print(res.text)"
   ]
  },
  {
   "cell_type": "code",
   "execution_count": 17,
   "id": "5844af84-5a2e-44d9-983a-1872313d7fc0",
   "metadata": {},
   "outputs": [
    {
     "name": "stdout",
     "output_type": "stream",
     "text": [
      "The capital city of India is **New Delhi**.\n"
     ]
    }
   ],
   "source": [
    "res = model.generate_content(\"What is the capital city of India?\", stream=True)\n",
    "for r in res:\n",
    "    print(r.text, end=\"\")"
   ]
  },
  {
   "cell_type": "markdown",
   "id": "1a43e0b2-03b4-4eff-b95f-4e4118e78745",
   "metadata": {},
   "source": [
    "# GCS\n",
    "### in  : gs://storage.cloud.google.com/cloud-samples-data/generative-ai/embeddings/embeddings_input.jsonl \n",
    "### out : gs://batch_data_embedding/out_embed"
   ]
  },
  {
   "cell_type": "code",
   "execution_count": 66,
   "id": "46a304ec-af56-4e58-9fcb-56141bd81801",
   "metadata": {},
   "outputs": [],
   "source": [
    "# from google.auth.transport.requests import Request\n",
    "# from google.oauth2.service_account import Credentials\n",
    "\n",
    "# api_key_path = \"/Users/danniel.kil/Downloads/khlee-demo-8af60a965548.json\"\n",
    "\n",
    "# credentials = Credentials.from_service_account_file(\n",
    "#     api_key_path, scopes=[\"https://www.googleapis.com/auth/cloud-platform\"]\n",
    "# )\n",
    "\n",
    "# PROJECT_ID = \"khlee-demo\"\n",
    "# REGION = \"us-central1\"\n",
    "# # REGION = \"global\"\n",
    "\n",
    "# import vertexai\n",
    "# from vertexai.preview import language_models\n",
    "\n",
    "# vertexai.init(project=PROJECT_ID, location=REGION, credentials=credentials)"
   ]
  },
  {
   "cell_type": "code",
   "execution_count": 73,
   "id": "86458c8d-7beb-48d3-b66b-d250a3d20301",
   "metadata": {},
   "outputs": [
    {
     "name": "stdout",
     "output_type": "stream",
     "text": [
      "Creating BatchPredictionJob\n",
      "BatchPredictionJob created. Resource name: projects/842505830814/locations/us-central1/batchPredictionJobs/234458089980428288\n",
      "To use this BatchPredictionJob in another session:\n",
      "bpj = aiplatform.BatchPredictionJob('projects/842505830814/locations/us-central1/batchPredictionJobs/234458089980428288')\n",
      "View Batch Prediction Job:\n",
      "https://console.cloud.google.com/ai/platform/locations/us-central1/batch-predictions/234458089980428288?project=842505830814\n",
      "BatchPredictionJob projects/842505830814/locations/us-central1/batchPredictionJobs/234458089980428288 current state:\n",
      "3\n",
      "BatchPredictionJob projects/842505830814/locations/us-central1/batchPredictionJobs/234458089980428288 current state:\n",
      "3\n",
      "BatchPredictionJob projects/842505830814/locations/us-central1/batchPredictionJobs/234458089980428288 current state:\n",
      "4\n",
      "BatchPredictionJob run completed. Resource name: projects/842505830814/locations/us-central1/batchPredictionJobs/234458089980428288\n",
      "display_name  :  BatchPredictionJob 2025-06-01 13:09:06.925079\n",
      "resource_name :  projects/842505830814/locations/us-central1/batchPredictionJobs/234458089980428288\n",
      "state         :  4\n"
     ]
    }
   ],
   "source": [
    "import vertexai\n",
    "from vertexai.preview import language_models\n",
    "\n",
    "input_uri  = \"gs://cloud-samples-data/generative-ai/embeddings/embeddings_input.jsonl\"\n",
    "output_uri = \"gs://batch_data_embedding/out_embed\"\n",
    "\n",
    "model = language_models.TextEmbeddingModel.from_pretrained(\n",
    "    # \"textembedding-gecko@003\"\n",
    "    \"text-multilingual-embedding-002\"\n",
    ")\n",
    "\n",
    "# * BigQuery에 Vertex AI User role 필요\n",
    "# bqcx-898845128413-dgrg@gcp-sa-bigquery-condel.iam.gserviceaccount.com \n",
    "batch_prediction_job = model.batch_predict(\n",
    "    dataset=[input_uri],\n",
    "    destination_uri_prefix=output_uri\n",
    ")\n",
    "\n",
    "print(\"display_name  : \", batch_prediction_job.display_name)\n",
    "print(\"resource_name : \", batch_prediction_job.resource_name)\n",
    "print(\"state         : \", batch_prediction_job.state)"
   ]
  },
  {
   "cell_type": "markdown",
   "id": "d6265196-e69f-46d0-bcf9-2eaeec77f469",
   "metadata": {},
   "source": [
    "# BigQuery\n",
    "### INSERT INTO `khlee-demo.vertexai_ds.indata` (content) values (\"Give a short description of a machine learning model\")\n",
    "### INSERT INTO `khlee-demo.vertexai_ds.indata` (content) values (\"Best recipe for banana bread\")"
   ]
  },
  {
   "cell_type": "code",
   "execution_count": 86,
   "id": "32c796b0-44b4-40f1-ba75-a65003c50168",
   "metadata": {},
   "outputs": [
    {
     "name": "stdout",
     "output_type": "stream",
     "text": [
      "Creating BatchPredictionJob\n",
      "BatchPredictionJob created. Resource name: projects/842505830814/locations/us-central1/batchPredictionJobs/8691092290275377152\n",
      "To use this BatchPredictionJob in another session:\n",
      "bpj = aiplatform.BatchPredictionJob('projects/842505830814/locations/us-central1/batchPredictionJobs/8691092290275377152')\n",
      "View Batch Prediction Job:\n",
      "https://console.cloud.google.com/ai/platform/locations/us-central1/batch-predictions/8691092290275377152?project=842505830814\n",
      "BatchPredictionJob projects/842505830814/locations/us-central1/batchPredictionJobs/8691092290275377152 current state:\n",
      "3\n",
      "BatchPredictionJob projects/842505830814/locations/us-central1/batchPredictionJobs/8691092290275377152 current state:\n",
      "3\n",
      "BatchPredictionJob projects/842505830814/locations/us-central1/batchPredictionJobs/8691092290275377152 current state:\n",
      "4\n",
      "BatchPredictionJob run completed. Resource name: projects/842505830814/locations/us-central1/batchPredictionJobs/8691092290275377152\n",
      "display_name  :  BatchPredictionJob 2025-06-01 13:27:23.184796\n",
      "resource_name :  projects/842505830814/locations/us-central1/batchPredictionJobs/8691092290275377152\n",
      "state         :  4\n"
     ]
    }
   ],
   "source": [
    "import vertexai\n",
    "from vertexai.preview import language_models\n",
    "\n",
    "# GCS to GCS는 가능하나 BigQuery to Bigquery는 불가능하며 아래의 에러로그 발생함\n",
    "input_uri  = \"gs://cloud-samples-data/generative-ai/embeddings/embeddings_input.jsonl\"\n",
    "# input_uri = \"bq://khlee-demo.vertexai_ds.indata\" # ValueError: Only single BigQuery source can be specified: ['bq://khlee-demo.vertexai_ds.indata']\n",
    "output_uri = \"bq://khlee-demo.vertexai_ds.outdata\"\n",
    "\n",
    "model = language_models.TextEmbeddingModel.from_pretrained(\n",
    "    # \"textembedding-gecko@003\"\n",
    "    \"text-multilingual-embedding-002\"\n",
    ")\n",
    "\n",
    "# * BigQuery에 Vertex AI User role 필요\n",
    "# bqcx-898845128413-dgrg@gcp-sa-bigquery-condel.iam.gserviceaccount.com \n",
    "batch_prediction_job = model.batch_predict(\n",
    "    dataset=[input_uri],\n",
    "    destination_uri_prefix=output_uri\n",
    ")\n",
    "\n",
    "print(\"display_name  : \", batch_prediction_job.display_name)\n",
    "print(\"resource_name : \", batch_prediction_job.resource_name)\n",
    "print(\"state         : \", batch_prediction_job.state)"
   ]
  },
  {
   "cell_type": "markdown",
   "id": "6670f185-d32a-4bab-912f-edb4ca6c2836",
   "metadata": {},
   "source": [
    "# Batch Data Test Generation with Gemini using Cloud Storage"
   ]
  },
  {
   "cell_type": "code",
   "execution_count": 97,
   "id": "9fd7a93b-c64a-460c-bfba-438525bef696",
   "metadata": {},
   "outputs": [
    {
     "name": "stdout",
     "output_type": "stream",
     "text": [
      "BatchPredictionJob created. Resource name: projects/842505830814/locations/us-central1/batchPredictionJobs/7117647170462810112\n",
      "To use this BatchPredictionJob in another session:\n",
      "job = batch_prediction.BatchPredictionJob('projects/842505830814/locations/us-central1/batchPredictionJobs/7117647170462810112')\n",
      "View Batch Prediction Job:\n",
      "https://console.cloud.google.com/ai/platform/locations/us-central1/batch-predictions/7117647170462810112?project=842505830814\n",
      "Job Resourcee Name : projects/842505830814/locations/us-central1/batchPredictionJobs/7117647170462810112\n",
      "Model Resourcee Name with the Job : publishers/google/models/gemini-2.0-flash-lite-001\n",
      "Job State : JOB_STATE_PENDING\n"
     ]
    }
   ],
   "source": [
    "from vertexai.batch_prediction import BatchPredictionJob\n",
    "\n",
    "# gs://cloud-samples-data/batch/prompt_for_batch_gemini_predict.jsonl\n",
    "# https://storage.cloud.google.com/cloud-samples-data/batch/prompt_for_batch_gemini_predict.jsonl\n",
    "\n",
    "# input_uri  = \"gs://cloud-samples-data/generative-ai/embeddings/embeddings_input.jsonl\"\n",
    "input_uri  = \"gs://cloud-samples-data/batch/prompt_for_batch_gemini_predict.jsonl\"\n",
    "output_uri = \"gs://batch_data_embedding/gemini_out\"\n",
    "# output_uri = \"bq://khlee-demo.vertexai_ds.outdata\"\n",
    "\n",
    "batch_prediction_job = BatchPredictionJob.submit(\n",
    "    # source_model=\"gemini-1.5-flash-002\",\n",
    "    source_model=\"gemini-2.0-flash-lite-001\",\n",
    "    input_dataset=input_uri,\n",
    "    output_uri_prefix=output_uri\n",
    ")\n",
    "\n",
    "print(f\"Job Resourcee Name : {batch_prediction_job.resource_name}\")\n",
    "print(f\"Model Resourcee Name with the Job : {batch_prediction_job.model_name}\")\n",
    "print(f\"Job State : {batch_prediction_job.state.name}\")"
   ]
  },
  {
   "cell_type": "markdown",
   "id": "3fd61372-0844-46af-b4a9-7d830eed4d6b",
   "metadata": {},
   "source": [
    "# Batch Data Test Generation with Gemini using BigQuery"
   ]
  },
  {
   "cell_type": "code",
   "execution_count": 100,
   "id": "f039ee10-117e-4bf7-83d9-4f78c3a8c656",
   "metadata": {},
   "outputs": [
    {
     "name": "stdout",
     "output_type": "stream",
     "text": [
      "BatchPredictionJob created. Resource name: projects/842505830814/locations/us-central1/batchPredictionJobs/1838021032301035520\n",
      "To use this BatchPredictionJob in another session:\n",
      "job = batch_prediction.BatchPredictionJob('projects/842505830814/locations/us-central1/batchPredictionJobs/1838021032301035520')\n",
      "View Batch Prediction Job:\n",
      "https://console.cloud.google.com/ai/platform/locations/us-central1/batch-predictions/1838021032301035520?project=842505830814\n",
      "Job Resourcee Name : projects/842505830814/locations/us-central1/batchPredictionJobs/1838021032301035520\n",
      "Model Resourcee Name with the Job : publishers/google/models/gemini-2.0-flash-lite-001\n",
      "Job State : JOB_STATE_PENDING\n"
     ]
    }
   ],
   "source": [
    "# sample data : https://cloud.google.com/vertex-ai/generative-ai/docs/multimodal/batch-prediction-gemini\n",
    "\n",
    "# put it in one line and make \" escape?\n",
    "# {\n",
    "#   \"contents\": [\n",
    "#     {\n",
    "#       \"role\": \"user\",\n",
    "#       \"parts\": [\n",
    "#         {\n",
    "#           \"text\": \"Give me a recipe for banana bread.\"\n",
    "#         }\n",
    "#       ]\n",
    "#     }\n",
    "#   ],\n",
    "#   \"system_instruction\": {\n",
    "#     \"parts\": [\n",
    "#       {\n",
    "#         \"text\": \"You are a chef.\"\n",
    "#       }\n",
    "#     ]\n",
    "#   }\n",
    "# }\n",
    "\n",
    "# {\\\"contents\\\": [{\\\"role\\\": \\\"user\\\", \\\"parts\\\": [{\\\"text\\\": \\\"Give me a recipe for banana bread.\\\"}]}], \\\"system_instruction\\\": {\\\"parts\\\": [{\\\"text\\\": \\\"You are a chef.\\\"}]}}\n",
    "\n",
    "# SELECT *  FROM `khlee-demo.vertexai_ds.ingemini` LIMIT 1000\n",
    "# INSERT INTO `khlee-demo.vertexai_ds.ingemini` (request) values ('{\\\"contents\\\": [{\\\"role\\\": \\\"user\\\", \\\"parts\\\": [{\\\"text\\\": \\\"Give me a recipe for banana bread.\\\"}]}], \\\"system_instruction\\\": {\\\"parts\\\": [{\\\"text\\\": \\\"You are a chef.\\\"}]}}') from vertexai.batch_prediction import BatchPredictionJob\n",
    "\n",
    "input_uri  = \"bq://khlee-demo.vertexai_ds.ingemini\"\n",
    "output_uri = \"bq://khlee-demo.vertexai_ds.ingemini\"\n",
    "\n",
    "batch_prediction_job = BatchPredictionJob.submit(\n",
    "    # source_model=\"gemini-1.5-flash-002\",\n",
    "    source_model=\"gemini-2.0-flash-lite-001\",\n",
    "    input_dataset=input_uri,\n",
    "    output_uri_prefix=output_uri\n",
    ")\n",
    "\n",
    "print(f\"Job Resourcee Name : {batch_prediction_job.resource_name}\")\n",
    "print(f\"Model Resourcee Name with the Job : {batch_prediction_job.model_name}\")\n",
    "print(f\"Job State : {batch_prediction_job.state.name}\")"
   ]
  }
 ],
 "metadata": {
  "kernelspec": {
   "display_name": "Python [conda env:ml_env]",
   "language": "python",
   "name": "conda-env-ml_env-py"
  },
  "language_info": {
   "codemirror_mode": {
    "name": "ipython",
    "version": 3
   },
   "file_extension": ".py",
   "mimetype": "text/x-python",
   "name": "python",
   "nbconvert_exporter": "python",
   "pygments_lexer": "ipython3",
   "version": "3.12.9"
  }
 },
 "nbformat": 4,
 "nbformat_minor": 5
}
