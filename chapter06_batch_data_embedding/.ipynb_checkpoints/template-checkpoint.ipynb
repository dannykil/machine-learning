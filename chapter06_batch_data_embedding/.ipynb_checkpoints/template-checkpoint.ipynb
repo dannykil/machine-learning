{
 "cells": [
  {
   "cell_type": "code",
   "execution_count": 7,
   "id": "7eedc924-0d79-4166-8991-0c0dee28cc8d",
   "metadata": {},
   "outputs": [],
   "source": [
    "import myvertexai"
   ]
  },
  {
   "cell_type": "code",
   "execution_count": 9,
   "id": "e42ea300-784a-4bf5-a3e6-1fccb7aecd2c",
   "metadata": {},
   "outputs": [],
   "source": [
    "from vertexai.generative_models import GenerativeModel, GenerationConfig\n",
    "model = GenerativeModel(\"gemini-2.0-flash-lite-001\")"
   ]
  },
  {
   "cell_type": "code",
   "execution_count": 11,
   "id": "41195b97-36e3-4442-9180-c98be4e17ff3",
   "metadata": {},
   "outputs": [
    {
     "name": "stdout",
     "output_type": "stream",
     "text": [
      "The capital city of India is **New Delhi**.\n",
      "\n"
     ]
    }
   ],
   "source": [
    "res = model.generate_content(\"What is the capital city of India?\")\n",
    "print(res.text)"
   ]
  },
  {
   "cell_type": "code",
   "execution_count": 30,
   "id": "5844af84-5a2e-44d9-983a-1872313d7fc0",
   "metadata": {},
   "outputs": [
    {
     "name": "stdout",
     "output_type": "stream",
     "text": [
      "The capital city of India is **New Delhi**.\n"
     ]
    }
   ],
   "source": [
    "res = model.generate_content(\"What is the capital city of India?\", stream=True)\n",
    "for r in res:\n",
    "    print(r.text, end=\"\")"
   ]
  },
  {
   "cell_type": "markdown",
   "id": "97b2f308-a6bb-4296-904f-0e1af10d01b1",
   "metadata": {},
   "source": [
    "# title"
   ]
  }
 ],
 "metadata": {
  "kernelspec": {
   "display_name": "Python [conda env:ml_env]",
   "language": "python",
   "name": "conda-env-ml_env-py"
  },
  "language_info": {
   "codemirror_mode": {
    "name": "ipython",
    "version": 3
   },
   "file_extension": ".py",
   "mimetype": "text/x-python",
   "name": "python",
   "nbconvert_exporter": "python",
   "pygments_lexer": "ipython3",
   "version": "3.12.9"
  }
 },
 "nbformat": 4,
 "nbformat_minor": 5
}
