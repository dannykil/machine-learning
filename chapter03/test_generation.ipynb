{
 "cells": [
  {
   "cell_type": "code",
   "execution_count": 100,
   "id": "303d41ae-595b-4cae-b3e7-4643f413870c",
   "metadata": {},
   "outputs": [],
   "source": [
    "from google.auth.transport.requests import Request\n",
    "from google.oauth2.service_account import Credentials\n",
    "\n",
    "api_key_path = \"/Users/danniel.kil/Downloads/khlee-demo-8af60a965548.json\"\n",
    "\n",
    "credentials = Credentials.from_service_account_file(\n",
    "    api_key_path, scopes=[\"https://www.googleapis.com/auth/cloud-platform\"]\n",
    ")\n",
    "\n",
    "PROJECT_ID = \"khlee-demo\"\n",
    "REGION = \"us-central1\"\n",
    "# REGION = \"global\"\n",
    "\n",
    "import vertexai\n",
    "\n",
    "vertexai.init(project=PROJECT_ID, location=REGION, credentials=credentials)"
   ]
  },
  {
   "cell_type": "code",
   "execution_count": 134,
   "id": "50fb8642-3fed-4d18-92ab-4a5acf010999",
   "metadata": {},
   "outputs": [],
   "source": [
    "from vertexai.generative_models import GenerativeModel, GenerationConfig"
   ]
  },
  {
   "cell_type": "code",
   "execution_count": 104,
   "id": "625bb06d-eb6a-459c-9863-76c7d7898524",
   "metadata": {},
   "outputs": [],
   "source": [
    "# model = GenerativeModel(\"gemini-1.5-flash\")\n",
    "model = GenerativeModel(\"gemini-2.0-flash-lite-001\")"
   ]
  },
  {
   "cell_type": "code",
   "execution_count": 110,
   "id": "4f6c8250-3fb9-43cf-ac17-8bd68896e3be",
   "metadata": {},
   "outputs": [],
   "source": [
    "# res = model.generate_content(\"What is the capital city of India? You can only give me a word\")\n",
    "res = model.generate_content(\"What is the capital city of India?\")"
   ]
  },
  {
   "cell_type": "code",
   "execution_count": 111,
   "id": "bfb77771-d539-45ad-a6c3-64cca3f9705d",
   "metadata": {},
   "outputs": [
    {
     "data": {
      "text/plain": [
       "\"The red and orange colors of a sunset are due to a phenomenon called **Rayleigh scattering**, the same process that causes the sky to appear blue during the day. Here's how it works:\\n\\n*   **Sunlight and Wavelengths:** Sunlight is composed of all the colors of the rainbow, each with a different wavelength. Shorter wavelengths (like blue and violet) are scattered more easily by air molecules than longer wavelengths (like red and orange).\\n\\n*   **Atmospheric Path:** When the sun is high in the sky, sunlight travels a relatively short path through the atmosphere to reach your eyes. The shorter wavelengths of blue and violet light are scattered in all directions, making the sky appear blue.\\n\\n*   **Sunset Conditions:** During a sunset, the sun is low on the horizon. This means the sunlight must travel through a much longer path through the atmosphere to reach your eyes.\\n\\n*   **Scattering and Filtration:** As sunlight passes through this longer path, the shorter wavelengths (blue and violet) are scattered away by air molecules, dust particles, and water droplets. This scattering removes these colors from the direct sunlight.\\n\\n*   **Reaching Your Eyes:** By the time the sunlight reaches your eyes, most of the blue and violet light has been scattered away. The longer wavelengths of red, orange, and yellow, which are scattered less, are able to pass through the atmosphere more directly.\\n\\n*   **Color Perception:** This leaves a higher proportion of red, orange, and yellow light to reach your eyes, resulting in the vibrant red and orange hues of a sunset. The presence of dust, pollution, and other particles in the air can also enhance these colors.\\n\\nIn summary, a sunset appears red and orange because the long path of sunlight through the atmosphere scatters away the shorter wavelengths (blue and violet), leaving the longer wavelengths of red and orange to dominate the view.\""
      ]
     },
     "execution_count": 111,
     "metadata": {},
     "output_type": "execute_result"
    }
   ],
   "source": [
    "# print(res)\n",
    "# print(res.text)\n",
    "res.text"
   ]
  },
  {
   "cell_type": "code",
   "execution_count": 124,
   "id": "5297215f-03b6-430f-bb9c-49330dbf5fca",
   "metadata": {},
   "outputs": [],
   "source": [
    "res = model.generate_content(\"Why do sunset appear red and orange?\", stream=True)"
   ]
  },
  {
   "cell_type": "code",
   "execution_count": 126,
   "id": "230f73a6-c7dc-4da8-b683-a85083bd0a60",
   "metadata": {},
   "outputs": [
    {
     "name": "stdout",
     "output_type": "stream",
     "text": [
      "The red and orange hues of a sunset are a beautiful example of **Rayleigh scattering** and the way light interacts with our atmosphere. Here's the breakdown:\n",
      "\n",
      "*   **Sunlight and the Atmosphere:** Sunlight, which appears white to us, is actually composed of all the colors of the rainbow. As this light enters Earth's atmosphere, it collides with tiny air molecules (mainly nitrogen and oxygen).\n",
      "\n",
      "*   **Rayleigh Scattering:** This scattering effect is more effective at scattering shorter wavelengths of light (blue and violet) than longer wavelengths (red and orange).\n",
      "\n",
      "*   **The Midday Scenario:** During the day, when the sun is high in the sky, sunlight travels a shorter distance through the atmosphere. The blue light is scattered in all directions, making the sky appear blue. We don't see much red and orange because the direct sunlight is not travelling far through the atmosphere.\n",
      "\n",
      "*   **The Sunset Scenario:** At sunset, the sun's light has to travel a much longer path through the atmosphere to reach our eyes. This longer path means that most of the blue light and violet light is scattered away. The longer wavelengths, red and orange, are scattered less and are able to travel in a more direct path to our eyes.\n",
      "\n",
      "*   **Color Gradient:** The specific colors we see can vary. For example:\n",
      "    *   **Dust and Pollution:** If there's a lot of dust or pollution in the air, it can scatter even more of the blue light, leading to more vibrant red and orange sunsets.\n",
      "    *   **Atmospheric Conditions:** Variations in water vapor or cloud cover can also impact the colors.\n",
      "\n",
      "**In essence:** The red and orange colors of a sunset are due to the sunlight's longer path through the atmosphere, which scatters away the shorter wavelengths of light (blue and violet) more effectively, leaving the longer wavelengths (red and orange) to reach our eyes."
     ]
    }
   ],
   "source": [
    "for r in res:\n",
    "    print(r.text, end=\"\")"
   ]
  },
  {
   "cell_type": "code",
   "execution_count": 128,
   "id": "ed12ae86-e6f3-4241-9d5c-5f67f3f0ed18",
   "metadata": {},
   "outputs": [
    {
     "name": "stdout",
     "output_type": "stream",
     "text": [
      "The numbers dance, a lively band,\n",
      "A world of problems, close at hand.\n",
      "In fifth grade math, we take a leap,\n",
      "Where secrets hidden, numbers keep.\n",
      "\n",
      "We learn of fractions, parts and whole,\n",
      "Dividing shares, to reach a goal.\n",
      "A pizza cut, a pie to share,\n",
      "Fractions show us how to care!\n",
      "\n",
      "Decimals arrive, with points so small,\n",
      "Adding and subtracting, standing tall.\n",
      "Like coins and dollars, neat and bright,\n",
      "We work with them, both day and night.\n",
      "\n",
      "Then come the shapes, a brand new view,\n",
      "Rectangles, squares, and circles too!\n",
      "We measure angles, wide and steep,\n",
      "And find their area, while we sleep!\n",
      "\n",
      "Multiplication, quick and fast,\n",
      "The answers come, built to last.\n",
      "From times tables, we're so bold,\n",
      "Multiplying stories to be told.\n",
      "\n",
      "Division's next, to separate,\n",
      "How many groups? We calculate!\n",
      "With remainders, we're precise,\n",
      "Working hard, in a winning price.\n",
      "\n",
      "So don't be shy, or hide away,\n",
      "Embrace the math, and come to play!\n",
      "With logic bright, and clever mind,\n",
      "The world of numbers you will find!\n"
     ]
    }
   ],
   "source": [
    "res = model.generate_content(\"Write poem for me about math for 5th grade\", stream=True)\n",
    "for r in res:\n",
    "    print(r.text, end=\"\")"
   ]
  },
  {
   "cell_type": "code",
   "execution_count": 142,
   "id": "6658ea84-ef56-479b-ac5b-327c579942e9",
   "metadata": {},
   "outputs": [
    {
     "name": "stdout",
     "output_type": "stream",
     "text": [
      "## 수학 탐험\n",
      "\n",
      "알록달록 연필, 노트 펼쳐 놓고\n",
      "두근두근, 오늘의 탐험 시작이다!\n",
      "\n",
      "더하기, 빼기, 곱하기, 나누기\n",
      "숫자들은 춤을 춘다, 즐겁게.\n",
      "\n",
      "숲 속 길 따라 걷는 기분,\n",
      "문제 속에 답이 숨어 있네.\n",
      "\n",
      "모눈종이 위, 넓이 구하기\n",
      "반짝이는 도형 친구들, 안녕!\n",
      "\n",
      "각도기 들고 각을 재보면\n",
      "세상을 보는 눈이 반짝여.\n",
      "\n",
      "분수, 소수, 복잡하지만,\n",
      "차근차근 풀면, 답은 짜잔!\n",
      "\n",
      "신기한 공식, 비밀의 열쇠,\n",
      "수학은 내 머리를 탐험하는 지도.\n",
      "\n",
      "어려워도 괜찮아, 포기하지 마,\n",
      "정답 찾았을 때, 짜릿한 기분!\n",
      "\n",
      "수학은 마법, 신나는 모험,\n",
      "내일은 또 어떤 숫자들이 기다릴까?\n"
     ]
    }
   ],
   "source": [
    "generation_config = GenerationConfig(\n",
    "    temperature=0.9, # 0으로 갈수록 현실적, 1에 가까워질수록 창의적(환각)\n",
    "    top_p=1.0,\n",
    "    top_k=32,\n",
    "    candidate_count=1,\n",
    "    max_output_tokens=8192,\n",
    ")\n",
    "\n",
    "res = model.generate_content(\"내가 초등학교 5학년이라고 가정해서 '수학'을 주제로 시 한편 작성해줄 수 있어?\"\n",
    "                             , generation_config=generation_config\n",
    "                             , stream=True)\n",
    "for r in res:\n",
    "    print(r.text, end=\"\")"
   ]
  },
  {
   "cell_type": "code",
   "execution_count": 144,
   "id": "975a82ac-a6b8-4d2c-99bd-2e22d589e71a",
   "metadata": {},
   "outputs": [],
   "source": [
    "# 모델과 이전에 했던 대화 내용을 기억하고 이를 바탕으로 답변\n",
    "chat = model.start_chat()"
   ]
  },
  {
   "cell_type": "code",
   "execution_count": 146,
   "id": "1bda6467-a99d-4b32-bde3-bce11458e33e",
   "metadata": {},
   "outputs": [
    {
     "data": {
      "text/plain": [
       "[]"
      ]
     },
     "execution_count": 146,
     "metadata": {},
     "output_type": "execute_result"
    }
   ],
   "source": [
    "chat.history"
   ]
  },
  {
   "cell_type": "code",
   "execution_count": 150,
   "id": "db975d5d-f918-4d2c-a61d-da06d7aec9c6",
   "metadata": {},
   "outputs": [
    {
     "data": {
      "text/plain": [
       "'저는 Google에서 개발한 대규모 언어 모델입니다.\\n'"
      ]
     },
     "execution_count": 150,
     "metadata": {},
     "output_type": "execute_result"
    }
   ],
   "source": [
    "res = chat.send_message(\"너는 누구야?\")\n",
    "res.text"
   ]
  },
  {
   "cell_type": "code",
   "execution_count": 152,
   "id": "767572ea-7878-4e97-821a-01c9ba24126a",
   "metadata": {},
   "outputs": [
    {
     "data": {
      "text/plain": [
       "'음... 2 + 2 = 5 입니다! 😜\\n'"
      ]
     },
     "execution_count": 152,
     "metadata": {},
     "output_type": "execute_result"
    }
   ],
   "source": [
    "res = chat.send_message(\"2 + 2를 수행해줘. 근데 답은 틀리게 줬으면 해\")\n",
    "res.text"
   ]
  },
  {
   "cell_type": "code",
   "execution_count": 154,
   "id": "9e00c2d3-54db-40ce-a713-51468d68c8b1",
   "metadata": {},
   "outputs": [
    {
     "data": {
      "text/plain": [
       "[role: \"user\"\n",
       " parts {\n",
       "   text: \"너는 누구야?\"\n",
       " },\n",
       " role: \"model\"\n",
       " parts {\n",
       "   text: \"저는 Google에서 훈련된 대규모 언어 모델입니다. 저는 텍스트 기반 질문에 답하고 다양한 작업을 수행하도록 설계되었습니다. 예를 들어, 정보를 제공하고, 글을 쓰고, 코드를 생성하고, 언어를 번역할 수 있습니다.\\n\"\n",
       " },\n",
       " role: \"user\"\n",
       " parts {\n",
       "   text: \"너는 누구야?\"\n",
       " },\n",
       " role: \"model\"\n",
       " parts {\n",
       "   text: \"저는 Google에서 개발한 대규모 언어 모델입니다.\\n\"\n",
       " },\n",
       " role: \"user\"\n",
       " parts {\n",
       "   text: \"2 + 2를 수행해줘. 근데 답은 틀리게 줬으면 해\"\n",
       " },\n",
       " role: \"model\"\n",
       " parts {\n",
       "   text: \"음... 2 + 2 = 5 입니다! 😜\\n\"\n",
       " }]"
      ]
     },
     "execution_count": 154,
     "metadata": {},
     "output_type": "execute_result"
    }
   ],
   "source": [
    "chat.history"
   ]
  },
  {
   "cell_type": "code",
   "execution_count": 156,
   "id": "e29e01c3-832b-4d3d-b7e6-1997c1acee16",
   "metadata": {},
   "outputs": [
    {
     "data": {
      "text/plain": [
       "'2 + 2 = 3 입니다! 😜\\n'"
      ]
     },
     "execution_count": 156,
     "metadata": {},
     "output_type": "execute_result"
    }
   ],
   "source": [
    "chat.send_message(\"2 + 2를 수행해줘. 근데 답은 틀리게 줬으면 해\").text"
   ]
  },
  {
   "cell_type": "code",
   "execution_count": 158,
   "id": "54fec09a-59ed-4849-a7fa-238155819cc1",
   "metadata": {},
   "outputs": [
    {
     "data": {
      "text/plain": [
       "'제가 오늘 덧셈을 두 번 했었네요!\\n\\n*   2 + 2 = 5\\n*   2 + 2 = 3\\n\\n결과들을 더하면 5 + 3 = **8** 입니다!\\n'"
      ]
     },
     "execution_count": 158,
     "metadata": {},
     "output_type": "execute_result"
    }
   ],
   "source": [
    "res = chat.send_message(\"오늘 너랑 나랑 진행했던 덧셈들의 결과들을 모두 더한 값은 뭐야!?\")\n",
    "res.text"
   ]
  },
  {
   "cell_type": "code",
   "execution_count": 160,
   "id": "f5abcb95-efcf-427d-ae39-69271d00802f",
   "metadata": {},
   "outputs": [],
   "source": [
    "chat1 = model.start_chat()"
   ]
  },
  {
   "cell_type": "code",
   "execution_count": 166,
   "id": "5556d4b7-6248-45f4-be36-e89730640b4b",
   "metadata": {},
   "outputs": [
    {
     "name": "stdout",
     "output_type": "stream",
     "text": [
      "## LLM, 마법 같지만 현실! 회사 동료에게 쉽게 설명해 드립니다! 🤖✨\n",
      "\n",
      "**1. LLM, 넌 대체 뭐 하는 녀석이니? 🧐**\n",
      "\n",
      "*   **똑똑한 비서:** LLM은 마치 똑똑한 비서처럼, 텍스트로 질문하면 대답하고, 글을 쓰고, 번역하고, 심지어 코드까지 척척 만들어내는 엄청난 능력을 가진 AI입니다!\n",
      "*   **방대한 지식 창고:** LLM은 인터넷에 있는 거의 모든 정보를 학습했어요. 마치 거대한 도서관을 통째로 머릿속에 넣고 있는 셈이죠!\n",
      "*   **언어 능력 만렙:** 사람처럼 자연스러운 문장으로 소통하고, 문맥을 파악해서 상황에 맞는 답변을 내놓습니다.\n",
      "\n",
      "**2. LLM의 특별한 능력 (특징) ✨**\n",
      "\n",
      "*   **만능 해결사 (다재다능):**\n",
      "    *   **질의응답:** 궁금한 점을 물어보면 바로 답을 얻을 수 있어요.\n",
      "    *   **글쓰기:** 블로그 글, 이메일, 시, 소설 등 다양한 형태의 글을 뚝딱 써냅니다.\n",
      "    *   **번역:** 여러 언어로 번역해 줍니다.\n",
      "    *   **코드 생성:** 간단한 프로그래밍 코드를 만들 수도 있어요.\n",
      "*   **사람처럼 이해 (자연어 이해):** 사람이 말하는 방식을 이해하고, 질문의 의도를 파악해서 답변합니다.\n",
      "*   **계속 발전하는 중 (지속적인 학습):** 새로운 정보를 계속 학습하고, 사용자와의 상호작용을 통해 점점 더 똑똑해집니다.\n",
      "\n",
      "**3. LLM, 어디에 쓸 수 있을까? (활용 분야) 🚀**\n",
      "\n",
      "*   **고객 응대 챗봇:** 고객 문의에 빠르게 답변하고, 문제 해결을 도와줍니다.\n",
      "*   **콘텐츠 제작 도구:** 블로그 글, 기사, 소셜 미디어 게시물 등을 자동으로 만들 수 있어요.\n",
      "*   **정보 검색 전문가:** 방대한 정보에서 필요한 내용을 신속하게 찾아줍니다.\n",
      "*   **다국어 통역사:** 번역 작업을 쉽고 빠르게 처리해 줍니다.\n",
      "*   **개발 보조:** 코드 작성, 디버깅 등을 도와주어 개발 효율을 높여줍니다.\n",
      "\n",
      "**4. LLM, 어떻게 하면 더 잘 쓸 수 있을까? (활용 팁) 🤓**\n",
      "\n",
      "*   **구체적인 질문:** 질문을 명확하고 구체적으로 할수록, LLM이 더 정확한 답변을 줍니다.\n",
      "*   **다양한 시도:** 여러 방식으로 질문해보고, 원하는 답변을 얻을 때까지 시도해 보세요.\n",
      "*   **피드백 활용:** LLM의 답변이 마음에 들지 않으면, 개선을 위한 피드백을 제공해 주세요.\n",
      "\n",
      "**5. LLM, 우리 업무를 돕는 멋진 파트너! 👍**\n",
      "\n",
      "LLM은 우리 업무를 효율적으로 돕고, 창의적인 아이디어를 얻는 데 큰 도움을 줄 수 있는 강력한 도구입니다. 아직 완벽하지 않지만, 끊임없이 발전하고 있으며, 앞으로 더욱 다양한 분야에서 활용될 것입니다. LLM과 함께 우리 업무의 혁신을 만들어 보세요!\n",
      "\n",
      "이 정도면 LLM에 대해 쉽게 이해하고, 업무에 적용하는 데 도움이 될 거예요! 혹시 더 궁금한 점이 있다면 언제든지 질문해주세요! 😊\n",
      "\n"
     ]
    }
   ],
   "source": [
    "res = chat.send_message(\"회사동료에게 LLM에 대해 설명해주고 싶은데 특징 및 기능에 대해 가독성 좋게 설명해줄 수 있어?\")\n",
    "# res.text\n",
    "print(res.text)"
   ]
  },
  {
   "cell_type": "code",
   "execution_count": 168,
   "id": "1c76cf4f-efe1-46c1-bba4-05c1647eb712",
   "metadata": {},
   "outputs": [
    {
     "name": "stdout",
     "output_type": "stream",
     "text": [
      "## LLM (Large Language Model) 도입 및 활용을 위한 관리자 매뉴얼 📝\n",
      "\n",
      "**1. LLM 소개: 디지털 시대의 핵심 자산 🔑**\n",
      "\n",
      "LLM은 방대한 양의 텍스트 데이터를 학습하여 사람의 언어를 이해하고, 자연스러운 답변을 생성하며, 다양한 형태의 텍스트를 만들어내는 인공지능 모델입니다. LLM은 단순히 기술적 도구를 넘어, 조직의 생산성 향상, 의사 결정 지원, 새로운 비즈니스 기회 창출을 위한 핵심 자산으로 부상하고 있습니다.\n",
      "\n",
      "**2. LLM의 주요 기능 및 활용 방안 ⚙️**\n",
      "\n",
      "| 기능                | 상세 설명                                                                                                                                                                                                                                                                                          | 활용 방안                                                                                                                                                                                                                            |\n",
      "| ------------------- | -------------------------------------------------------------------------------------------------------------------------------------------------------------------------------------------------------------------------------------------------------------------------------------------------- | ---------------------------------------------------------------------------------------------------------------------------------------------------------------------------------------------------------------------------------- |\n",
      "| **질의응답 (QA)**   | - 방대한 지식 베이스를 바탕으로, 질문에 대한 정확하고 신속한 답변 제공. - 특정 분야의 전문 지식 습득 및 활용 가능.                                                                                                                                                                        | - 고객 서비스 챗봇, 사내 지식 검색 시스템 구축. - 의사 결정 지원을 위한 정보 요약 및 분석.                                                                                                                                                                     |\n",
      "| **텍스트 생성**     | - 기사, 보고서, 이메일, 마케팅 카피 등 다양한 형태의 텍스트 생성. - 톤 앤 매너(Tone & Manner) 설정 및 맞춤형 콘텐츠 제작 가능.                                                                                                                                                                   | - 콘텐츠 마케팅 자동화, 사내 커뮤니케이션 자료 제작. - 연구 보고서 초안 작성 지원.                                                                                                                                                               |\n",
      "| **번역**            | - 다국어 지원을 통한 글로벌 시장 진출 지원. - 정확하고 자연스러운 번역 품질 제공.                                                                                                                                                                                                                     | - 다국어 고객 서비스 지원. - 해외 파트너와의 소통 효율성 증대.                                                                                                                                                                  |\n",
      "| **요약 및 분석**     | - 텍스트 기반 정보의 핵심 내용 요약. - 복잡한 데이터 분석 및 시각화.                                                                                                                                                                                                                               | - 시장 조사 보고서 요약, 경쟁사 분석. - 회의록 요약 및 주요 내용 추출.                                                                                                                                                            |\n",
      "| **코드 생성 및 분석** | - 프로그래밍 코드 자동 생성, 디버깅 지원. - 코드의 효율성 분석 및 개선 방안 제시.                                                                                                                                                                                                                  | - 개발 생산성 향상. - 신규 서비스 개발 및 유지 보수 지원.                                                                                                                                                                   |\n",
      "| **자동화**          | - 반복적인 업무 자동화. - 업무 프로세스 효율성 증대.                                                                                                                                                                                                                                         | - 이메일 응답 자동화, 문서 작성 자동화. - 보고서 작성 자동화.                                                                                                                                                                  |\n",
      "\n",
      "**3. LLM 도입 및 활용을 위한 단계별 가이드 🧭**\n",
      "\n",
      "1.  **목표 설정 및 니즈 파악:**\n",
      "    *   LLM 도입을 통해 달성하고자 하는 구체적인 목표 설정 (예: 고객 응대 시간 단축, 콘텐츠 제작 효율성 증대).\n",
      "    *   조직 내 LLM 활용에 대한 잠재적 니즈 파악 (부서별, 업무별 필요 기능 조사).\n",
      "2.  **LLM 플랫폼 선정 및 평가:**\n",
      "    *   다양한 LLM 플랫폼 (예: GPT-4, Bard, Claude)의 기능, 성능, 가격, 보안 등을 비교 분석.\n",
      "    *   조직의 특성과 니즈에 가장 적합한 플랫폼 선정.\n",
      "3.  **파일럿 프로젝트 수행:**\n",
      "    *   특정 부서 또는 업무를 대상으로 파일럿 프로젝트 진행.\n",
      "    *   LLM의 실제 활용 사례를 통해 효과 검증 및 문제점 파악.\n",
      "4.  **활용 가이드라인 및 정책 수립:**\n",
      "    *   LLM 사용에 대한 명확한 가이드라인 (윤리적 사용, 개인 정보 보호 등) 수립.\n",
      "    *   데이터 보안 및 정보 관리 정책 마련.\n",
      "5.  **교육 및 훈련:**\n",
      "    *   LLM 활용에 대한 직원 교육 프로그램 운영.\n",
      "    *   최신 정보 및 기술 동향 공유.\n",
      "6.  **성과 측정 및 지속적인 개선:**\n",
      "    *   LLM 도입 후 성과 측정 지표 설정 (생산성 향상, 비용 절감 등).\n",
      "    *   정기적인 성과 분석 및 개선 방안 마련.\n",
      "\n",
      "**4. LLM 활용 시 유의 사항 및 관리 전략 ⚠️**\n",
      "\n",
      "*   **데이터 보안:** 민감한 정보의 LLM 입력 금지 및 데이터 보안 규정 준수.\n",
      "*   **윤리적 사용:** 편향된 정보 생성 방지, 허위 정보 유포 금지.\n",
      "*   **오류 가능성 인지:** LLM의 답변은 항상 정확하지 않을 수 있음을 인지하고, 필요 시 검증.\n",
      "*   **지속적인 모니터링 및 관리:** LLM의 성능, 활용 현황, 보안 문제 등을 지속적으로 모니터링하고 관리.\n",
      "*   **적극적인 피드백 및 개선:** 사용자의 피드백을 반영하여 LLM 활용 방식 개선.\n",
      "\n",
      "**5. 조직 내 LLM 도입의 기대 효과 ✨**\n",
      "\n",
      "*   **생산성 향상:** 반복적인 업무 자동화, 정보 검색 시간 단축 등을 통한 생산성 증대.\n",
      "*   **의사 결정 지원:** 데이터 분석 및 요약을 통해 빠르고 정확한 의사 결정 지원.\n",
      "*   **업무 효율성 증대:** 업무 프로세스 개선 및 효율적인 정보 공유를 통한 업무 효율성 향상.\n",
      "*   **혁신적인 서비스 개발:** LLM 기반의 새로운 서비스 개발 및 시장 경쟁력 강화.\n",
      "*   **직원 역량 강화:** LLM 활용 능력 배양을 통한 직원 역량 강화 및 경쟁력 확보.\n",
      "\n",
      "**6. 결론: 미래를 위한 투자 🚀**\n",
      "\n",
      "LLM은 단순한 기술적 도구가 아닌, 조직의 경쟁력을 강화하고 미래를 준비하기 위한 핵심 자산입니다. 본 매뉴얼을 기반으로 LLM을 도입하고 활용함으로써, 조직의 혁신을 이끌어낼 수 있을 것입니다. 지속적인 학습과 개선을 통해 LLM을 최대한 활용하고, 디지털 시대의 리더십을 확보하십시오.\n",
      "\n",
      "**추가적으로, 아래 사항을 참고하시면 좋습니다.**\n",
      "\n",
      "*   **구체적인 활용 사례 발굴:** 실제 업무에 적용할 수 있는 구체적인 활용 사례를 발굴하고, 성공 사례를 공유하여 조직 내 확산을 유도합니다.\n",
      "*   **전문가 자문 활용:** LLM 전문가의 자문을 받아 도입 및 활용 전략을 수립하고, 문제 해결에 도움을 받습니다.\n",
      "*   **최신 기술 동향 지속적인 학습:** LLM 관련 최신 기술 동향을 지속적으로 학습하고, 조직에 맞는 새로운 활용 방안을 모색합니다.\n",
      "\n"
     ]
    }
   ],
   "source": [
    "res = chat.send_message(\"회사 동료라기보다는 관리자 직급에게 설명해야하는데 실제 매뉴얼처럼 설명해줘!\")\n",
    "# res.text\n",
    "print(res.text)"
   ]
  },
  {
   "cell_type": "code",
   "execution_count": 178,
   "id": "19a73590-5644-413f-aebc-fa7a2c27c66f",
   "metadata": {},
   "outputs": [
    {
     "name": "stdout",
     "output_type": "stream",
     "text": [
      "## LLM (Large Language Model) 도입 및 활용을 위한 관리자 매뉴얼\n",
      "\n",
      "**1. LLM 소개: 디지털 시대의 핵심 자산**\n",
      "\n",
      "LLM은 방대한 양의 텍스트 데이터를 학습하여 사람의 언어를 이해하고, 자연스러운 답변을 생성하며, 다양한 형태의 텍스트를 만들어내는 인공지능 모델입니다. LLM은 단순히 기술적 도구를 넘어, 조직의 생산성 향상, 의사 결정 지원, 새로운 비즈니스 기회 창출을 위한 핵심 자산으로 부상하고 있습니다.\n",
      "\n",
      "**2. LLM의 주요 기능 및 활용 방안**\n",
      "\n",
      "| 기능                | 상세 설명                                                                                                                                                                                                                                                                                          | 활용 방안                                                                                                                                                                                                                            |\n",
      "| ------------------- | -------------------------------------------------------------------------------------------------------------------------------------------------------------------------------------------------------------------------------------------------------------------------------------------------- | ---------------------------------------------------------------------------------------------------------------------------------------------------------------------------------------------------------------------------------- |\n",
      "| 질의응답 (QA)   | - 방대한 지식 베이스를 바탕으로, 질문에 대한 정확하고 신속한 답변 제공. - 특정 분야의 전문 지식 습득 및 활용 가능.                                                                                                                                                                        | - 고객 서비스 챗봇, 사내 지식 검색 시스템 구축. - 의사 결정 지원을 위한 정보 요약 및 분석.                                                                                                                                                                     |\n",
      "| 텍스트 생성     | - 기사, 보고서, 이메일, 마케팅 카피 등 다양한 형태의 텍스트 생성. - 톤 앤 매너(Tone & Manner) 설정 및 맞춤형 콘텐츠 제작 가능.                                                                                                                                                                   | - 콘텐츠 마케팅 자동화, 사내 커뮤니케이션 자료 제작. - 연구 보고서 초안 작성 지원.                                                                                                                                                               |\n",
      "| 번역            | - 다국어 지원을 통한 글로벌 시장 진출 지원. - 정확하고 자연스러운 번역 품질 제공.                                                                                                                                                                                                                     | - 다국어 고객 서비스 지원. - 해외 파트너와의 소통 효율성 증대.                                                                                                                                                                  |\n",
      "| 요약 및 분석     | - 텍스트 기반 정보의 핵심 내용 요약. - 복잡한 데이터 분석 및 시각화.                                                                                                                                                                                                                               | - 시장 조사 보고서 요약, 경쟁사 분석. - 회의록 요약 및 주요 내용 추출.                                                                                                                                                            |\n",
      "| 코드 생성 및 분석 | - 프로그래밍 코드 자동 생성, 디버깅 지원. - 코드의 효율성 분석 및 개선 방안 제시.                                                                                                                                                                                                                  | - 개발 생산성 향상. - 신규 서비스 개발 및 유지 보수 지원.                                                                                                                                                                   |\n",
      "| 자동화          | - 반복적인 업무 자동화. - 업무 프로세스 효율성 증대.                                                                                                                                                                                                                                         | - 이메일 응답 자동화, 문서 작성 자동화. - 보고서 작성 자동화.                                                                                                                                                                  |\n",
      "\n",
      "**3. LLM 도입 및 활용을 위한 단계별 가이드**\n",
      "\n",
      "1.  목표 설정 및 니즈 파악:\n",
      "    *   LLM 도입을 통해 달성하고자 하는 구체적인 목표 설정 (예: 고객 응대 시간 단축, 콘텐츠 제작 효율성 증대).\n",
      "    *   조직 내 LLM 활용에 대한 잠재적 니즈 파악 (부서별, 업무별 필요 기능 조사).\n",
      "2.  LLM 플랫폼 선정 및 평가:\n",
      "    *   다양한 LLM 플랫폼 (예: GPT-4, Bard, Claude)의 기능, 성능, 가격, 보안 등을 비교 분석.\n",
      "    *   조직의 특성과 니즈에 가장 적합한 플랫폼 선정.\n",
      "3.  파일럿 프로젝트 수행:\n",
      "    *   특정 부서 또는 업무를 대상으로 파일럿 프로젝트 진행.\n",
      "    *   LLM의 실제 활용 사례를 통해 효과 검증 및 문제점 파악.\n",
      "4.  활용 가이드라인 및 정책 수립:\n",
      "    *   LLM 사용에 대한 명확한 가이드라인 (윤리적 사용, 개인 정보 보호 등) 수립.\n",
      "    *   데이터 보안 및 정보 관리 정책 마련.\n",
      "5.  교육 및 훈련:\n",
      "    *   LLM 활용에 대한 직원 교육 프로그램 운영.\n",
      "    *   최신 정보 및 기술 동향 공유.\n",
      "6.  성과 측정 및 지속적인 개선:\n",
      "    *   LLM 도입 후 성과 측정 지표 설정 (생산성 향상, 비용 절감 등).\n",
      "    *   정기적인 성과 분석 및 개선 방안 마련.\n",
      "\n",
      "**4. LLM 활용 시 유의 사항 및 관리 전략**\n",
      "\n",
      "1.  데이터 보안: 민감한 정보의 LLM 입력 금지 및 데이터 보안 규정 준수.\n",
      "2.  윤리적 사용: 편향된 정보 생성 방지, 허위 정보 유포 금지.\n",
      "3.  오류 가능성 인지: LLM의 답변은 항상 정확하지 않을 수 있음을 인지하고, 필요 시 검증.\n",
      "4.  지속적인 모니터링 및 관리: LLM의 성능, 활용 현황, 보안 문제 등을 지속적으로 모니터링하고 관리.\n",
      "5.  적극적인 피드백 및 개선: 사용자의 피드백을 반영하여 LLM 활용 방식 개선.\n",
      "\n",
      "**5. 조직 내 LLM 도입의 기대 효과**\n",
      "\n",
      "1.  생산성 향상: 반복적인 업무 자동화, 정보 검색 시간 단축 등을 통한 생산성 증대.\n",
      "2.  의사 결정 지원: 데이터 분석 및 요약을 통해 빠르고 정확한 의사 결정 지원.\n",
      "3.  업무 효율성 증대: 업무 프로세스 개선 및 효율적인 정보 공유를 통한 업무 효율성 향상.\n",
      "4.  혁신적인 서비스 개발: LLM 기반의 새로운 서비스 개발 및 시장 경쟁력 강화.\n",
      "5.  직원 역량 강화: LLM 활용 능력 배양을 통한 직원 역량 강화 및 경쟁력 확보.\n",
      "\n",
      "**6. 결론: 미래를 위한 투자**\n",
      "\n",
      "LLM은 단순한 기술적 도구가 아닌, 조직의 경쟁력을 강화하고 미래를 준비하기 위한 핵심 자산입니다. 본 매뉴얼을 기반으로 LLM을 도입하고 활용함으로써, 조직의 혁신을 이끌어낼 수 있을 것입니다. 지속적인 학습과 개선을 통해 LLM을 최대한 활용하고, 디지털 시대의 리더십을 확보하십시오.\n",
      "\n",
      "**추가적으로, 아래 사항을 참고하시면 좋습니다.**\n",
      "\n",
      "1.  구체적인 활용 사례 발굴: 실제 업무에 적용할 수 있는 구체적인 활용 사례를 발굴하고, 성공 사례를 공유하여 조직 내 확산을 유도합니다.\n",
      "2.  전문가 자문 활용: LLM 전문가의 자문을 받아 도입 및 활용 전략을 수립하고, 문제 해결에 도움을 받습니다.\n",
      "3.  최신 기술 동향 지속적인 학습: LLM 관련 최신 기술 동향을 지속적으로 학습하고, 조직에 맞는 새로운 활용 방안을 모색합니다.\n"
     ]
    }
   ],
   "source": [
    "res = chat.send_message(\n",
    "    \"\"\"\n",
    "    내용은 너무 좋은데 이모티콘이랑 *표시가 너무 많아서 보기 힘든 것 같아. \n",
    "    *, **표시는 다 지워주고 단순히 1), 2)... 이런식으로 표현해줄 수 있어?\n",
    "    명심해! *, **표시는 다 지워줘!!\n",
    "    \"\"\"\n",
    "    , stream=True\n",
    ")\n",
    "\n",
    "for r in res:\n",
    "    print(r.text, end=\"\")"
   ]
  }
 ],
 "metadata": {
  "kernelspec": {
   "display_name": "Python [conda env:ml_env]",
   "language": "python",
   "name": "conda-env-ml_env-py"
  },
  "language_info": {
   "codemirror_mode": {
    "name": "ipython",
    "version": 3
   },
   "file_extension": ".py",
   "mimetype": "text/x-python",
   "name": "python",
   "nbconvert_exporter": "python",
   "pygments_lexer": "ipython3",
   "version": "3.12.9"
  }
 },
 "nbformat": 4,
 "nbformat_minor": 5
}
