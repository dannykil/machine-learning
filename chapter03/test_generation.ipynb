{
 "cells": [
  {
   "cell_type": "code",
   "execution_count": 56,
   "id": "303d41ae-595b-4cae-b3e7-4643f413870c",
   "metadata": {},
   "outputs": [],
   "source": [
    "from google.auth.transport.requests import Request\n",
    "from google.oauth2.service_account import Credentials\n",
    "\n",
    "api_key_path = \"/Users/danniel.kil/Downloads/khlee-demo-8af60a965548.json\"\n",
    "\n",
    "credentials = Credentials.from_service_account_file(\n",
    "    api_key_path, scopes=[\"https://www.googleapis.com/auth/cloud-platform\"]\n",
    ")\n",
    "\n",
    "PROJECT_ID = \"khlee-demo\"\n",
    "# REGION = \"us-central1\"\n",
    "REGION = \"global\"\n",
    "\n",
    "import vertexai\n",
    "\n",
    "vertexai.init(project=PROJECT_ID, location=REGION, credentials=credentials)"
   ]
  },
  {
   "cell_type": "code",
   "execution_count": 58,
   "id": "50fb8642-3fed-4d18-92ab-4a5acf010999",
   "metadata": {},
   "outputs": [],
   "source": [
    "from vertexai.generative_models import GenerativeModel"
   ]
  },
  {
   "cell_type": "code",
   "execution_count": 78,
   "id": "625bb06d-eb6a-459c-9863-76c7d7898524",
   "metadata": {},
   "outputs": [],
   "source": [
    "# model = GenerativeModel(\"gemini-1.5-flash\")\n",
    "model = GenerativeModel(\"gemini-2.0-flash-lite-001\")"
   ]
  },
  {
   "cell_type": "code",
   "execution_count": 90,
   "id": "4f6c8250-3fb9-43cf-ac17-8bd68896e3be",
   "metadata": {},
   "outputs": [],
   "source": [
    "# res = model.generate_content(\"What is the capital city of India? You can only give me a word\")\n",
    "res = model.generate_content(\"What is the capital city of India?\")"
   ]
  },
  {
   "cell_type": "code",
   "execution_count": 92,
   "id": "bfb77771-d539-45ad-a6c3-64cca3f9705d",
   "metadata": {},
   "outputs": [
    {
     "name": "stdout",
     "output_type": "stream",
     "text": [
      "candidates {\n",
      "  content {\n",
      "    role: \"model\"\n",
      "    parts {\n",
      "      text: \"The capital city of India is **New Delhi**.\\n\"\n",
      "    }\n",
      "  }\n",
      "  finish_reason: STOP\n",
      "  avg_logprobs: -0.0018387822942300277\n",
      "}\n",
      "usage_metadata {\n",
      "  prompt_token_count: 8\n",
      "  candidates_token_count: 11\n",
      "  total_token_count: 19\n",
      "  prompt_tokens_details {\n",
      "    modality: TEXT\n",
      "    token_count: 8\n",
      "  }\n",
      "  candidates_tokens_details {\n",
      "    modality: TEXT\n",
      "    token_count: 11\n",
      "  }\n",
      "}\n",
      "model_version: \"gemini-2.0-flash-lite-001\"\n",
      "create_time {\n",
      "  seconds: 1748669703\n",
      "  nanos: 870919000\n",
      "}\n",
      "response_id: \"B5U6aIeUNfOaseMP6LHxwAg\"\n",
      "\n"
     ]
    }
   ],
   "source": [
    "print(res)"
   ]
  }
 ],
 "metadata": {
  "kernelspec": {
   "display_name": "Python [conda env:ml_env]",
   "language": "python",
   "name": "conda-env-ml_env-py"
  },
  "language_info": {
   "codemirror_mode": {
    "name": "ipython",
    "version": 3
   },
   "file_extension": ".py",
   "mimetype": "text/x-python",
   "name": "python",
   "nbconvert_exporter": "python",
   "pygments_lexer": "ipython3",
   "version": "3.12.9"
  }
 },
 "nbformat": 4,
 "nbformat_minor": 5
}
