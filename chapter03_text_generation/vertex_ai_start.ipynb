{
 "cells": [
  {
   "cell_type": "code",
   "execution_count": 14,
   "id": "d05f6fcf-7a20-4c61-8768-c69848be7a36",
   "metadata": {},
   "outputs": [
    {
     "name": "stdout",
     "output_type": "stream",
     "text": [
      "Hello Vertex AI\n"
     ]
    }
   ],
   "source": [
    "print(\"Hello Vertex AI\")"
   ]
  },
  {
   "cell_type": "code",
   "execution_count": 20,
   "id": "b404d487-e89b-41ea-b15f-140480da3f1c",
   "metadata": {},
   "outputs": [],
   "source": [
    "from google.auth.transport.requests import Request"
   ]
  },
  {
   "cell_type": "code",
   "execution_count": 22,
   "id": "98c50ac9-1792-4c7e-a974-56600a718d54",
   "metadata": {},
   "outputs": [],
   "source": [
    "from google.oauth2.service_account import Credentials"
   ]
  },
  {
   "cell_type": "code",
   "execution_count": 30,
   "id": "663c619b-6a88-45db-bcdd-045b8435bb63",
   "metadata": {},
   "outputs": [],
   "source": [
    "api_key_path = \"/Users/danniel.kil/Downloads/khlee-demo-8af60a965548.json\""
   ]
  },
  {
   "cell_type": "code",
   "execution_count": 32,
   "id": "e7d17887-2397-4fd4-af1e-00ae876299d2",
   "metadata": {},
   "outputs": [],
   "source": [
    "credentials = Credentials.from_service_account_file(\n",
    "    api_key_path, scopes=[\"https://www.googleapis.com/auth/cloud-platform\"]\n",
    ")"
   ]
  },
  {
   "cell_type": "code",
   "execution_count": 34,
   "id": "6ac65397-1b28-4569-9a75-4717a96be1c2",
   "metadata": {},
   "outputs": [],
   "source": [
    "PROJECT_ID = \"khlee-demo\"\n",
    "REGION = \"us-central1\""
   ]
  },
  {
   "cell_type": "code",
   "execution_count": 36,
   "id": "dd1e218a-e7e5-419c-8a53-69e97cc5e4c3",
   "metadata": {},
   "outputs": [],
   "source": [
    "import vertexai"
   ]
  },
  {
   "cell_type": "code",
   "execution_count": 37,
   "id": "5dd282a5-1bfb-4da4-bf84-ee5fa3bac69b",
   "metadata": {},
   "outputs": [],
   "source": [
    "vertexai.init(project=PROJECT_ID, location=REGION, credentials=credentials)"
   ]
  }
 ],
 "metadata": {
  "kernelspec": {
   "display_name": "Python 3 (ipykernel)",
   "language": "python",
   "name": "python3"
  },
  "language_info": {
   "codemirror_mode": {
    "name": "ipython",
    "version": 3
   },
   "file_extension": ".py",
   "mimetype": "text/x-python",
   "name": "python",
   "nbconvert_exporter": "python",
   "pygments_lexer": "ipython3",
   "version": "3.10.17"
  }
 },
 "nbformat": 4,
 "nbformat_minor": 5
}
