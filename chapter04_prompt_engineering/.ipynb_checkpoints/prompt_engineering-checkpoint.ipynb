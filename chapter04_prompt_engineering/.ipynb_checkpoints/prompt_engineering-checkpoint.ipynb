{
 "cells": [
  {
   "cell_type": "code",
   "execution_count": 41,
   "id": "7eedc924-0d79-4166-8991-0c0dee28cc8d",
   "metadata": {},
   "outputs": [],
   "source": [
    "import myvertexai"
   ]
  },
  {
   "cell_type": "code",
   "execution_count": 43,
   "id": "e42ea300-784a-4bf5-a3e6-1fccb7aecd2c",
   "metadata": {},
   "outputs": [],
   "source": [
    "from vertexai.generative_models import GenerativeModel, GenerationConfig\n",
    "model = GenerativeModel(\"gemini-2.0-flash-lite-001\")"
   ]
  },
  {
   "cell_type": "markdown",
   "id": "92dbc103-af0d-4da0-853f-02b5085bd8c9",
   "metadata": {},
   "source": [
    "<!-- res = model.generate_content(\"What is the capital city of India?\", stream=True)\n",
    "for r in res:\n",
    "    print(r.text, end=\"\") -->"
   ]
  },
  {
   "cell_type": "markdown",
   "id": "e9369029-eaac-4a50-9638-1f89847cef17",
   "metadata": {},
   "source": [
    "# Prompt Engineering"
   ]
  },
  {
   "cell_type": "markdown",
   "id": "b262ba9a-a6e3-4871-9c17-9d98a0920066",
   "metadata": {},
   "source": [
    "### 1. Be Concise(간결함)"
   ]
  },
  {
   "cell_type": "code",
   "execution_count": null,
   "id": "81381f56-7b07-4f12-94fe-8e0129473323",
   "metadata": {},
   "outputs": [],
   "source": [
    "# 간결하지 못한 버전\n",
    "p1 = \n",
    "\"\"\"\n",
    "친절하고 유머러스한 말투로 답변해줘. \n",
    "나는 개발자인데 초보자를 위해 설명하듯 말해줘. 존댓말 써주고, 가끔 농담도 섞어줘. \n",
    "전문용어는 쉽게 풀어줘. 긍정적인 분위기로 말하고 너무 딱딱하게는 하지마. \n",
    "질문에 필요한 정보는 꼭 다 알려줘. 궁금한 거 다 알려줘.\n",
    "\"\"\"\n",
    "\n",
    "# 간결한 버전\n",
    "p2 = \n",
    "\"\"\"\n",
    "당신은 이제부터 친절하고 유머러스한 개발자 멘토입니다.\n",
    "대상: 파이썬 초보 개발자\n",
    "어조: 존댓말 사용, 긍정적이고 비격식적인 분위기, 가끔 가벼운 농담 허용.\n",
    "목표: 전문 용어를 쉽게 풀어서 설명하며, 질문에 대한 모든 필수 정보를 빠짐없이 제공합니다.\n",
    "\"\"\""
   ]
  },
  {
   "cell_type": "code",
   "execution_count": null,
   "id": "54932477-7e95-4ebc-b0f4-b71ffbbf7764",
   "metadata": {},
   "outputs": [],
   "source": [
    "res = model.generate_content(\"What is the capital city of India?\", stream=True)\n",
    "print(res.text)"
   ]
  }
 ],
 "metadata": {
  "kernelspec": {
   "display_name": "Python [conda env:ml_env]",
   "language": "python",
   "name": "conda-env-ml_env-py"
  },
  "language_info": {
   "codemirror_mode": {
    "name": "ipython",
    "version": 3
   },
   "file_extension": ".py",
   "mimetype": "text/x-python",
   "name": "python",
   "nbconvert_exporter": "python",
   "pygments_lexer": "ipython3",
   "version": "3.12.9"
  }
 },
 "nbformat": 4,
 "nbformat_minor": 5
}
