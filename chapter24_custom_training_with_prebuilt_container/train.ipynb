{
 "cells": [
  {
   "cell_type": "code",
   "execution_count": 2,
   "id": "1092961e-4e2d-4868-b484-0b3d5e08da81",
   "metadata": {
    "tags": []
   },
   "outputs": [
    {
     "name": "stderr",
     "output_type": "stream",
     "text": [
      "2025-06-14 07:44:41.674850: I tensorflow/core/platform/cpu_feature_guard.cc:193] This TensorFlow binary is optimized with oneAPI Deep Neural Network Library (oneDNN) to use the following CPU instructions in performance-critical operations:  AVX2 FMA\n",
      "To enable them in other operations, rebuild TensorFlow with the appropriate compiler flags.\n",
      "2025-06-14 07:44:47.515455: E tensorflow/stream_executor/cuda/cuda_blas.cc:2981] Unable to register cuBLAS factory: Attempting to register factory for plugin cuBLAS when one has already been registered\n",
      "2025-06-14 07:44:59.095302: W tensorflow/stream_executor/platform/default/dso_loader.cc:64] Could not load dynamic library 'libnvinfer.so.7'; dlerror: libnvinfer.so.7: cannot open shared object file: No such file or directory; LD_LIBRARY_PATH: /usr/local/cuda/lib64:/usr/local/cuda/lib:/usr/local/lib/x86_64-linux-gnu:/usr/local/nvidia/lib:/usr/local/nvidia/lib64:/usr/local/nvidia/lib:/usr/local/nvidia/lib64\n",
      "2025-06-14 07:44:59.095614: W tensorflow/stream_executor/platform/default/dso_loader.cc:64] Could not load dynamic library 'libnvinfer_plugin.so.7'; dlerror: libnvinfer_plugin.so.7: cannot open shared object file: No such file or directory; LD_LIBRARY_PATH: /usr/local/cuda/lib64:/usr/local/cuda/lib:/usr/local/lib/x86_64-linux-gnu:/usr/local/nvidia/lib:/usr/local/nvidia/lib64:/usr/local/nvidia/lib:/usr/local/nvidia/lib64\n",
      "2025-06-14 07:44:59.095630: W tensorflow/compiler/tf2tensorrt/utils/py_utils.cc:38] TF-TRT Warning: Cannot dlopen some TensorRT libraries. If you would like to use Nvidia GPU with TensorRT, please make sure the missing libraries mentioned above are installed properly.\n"
     ]
    }
   ],
   "source": [
    "import tensorflow"
   ]
  },
  {
   "cell_type": "code",
   "execution_count": 3,
   "id": "fd4a4323-af64-438b-80fd-5fb5c95bddd1",
   "metadata": {
    "tags": []
   },
   "outputs": [
    {
     "data": {
      "text/plain": [
       "'2.10.1'"
      ]
     },
     "execution_count": 3,
     "metadata": {},
     "output_type": "execute_result"
    }
   ],
   "source": [
    "tensorflow.__version__"
   ]
  },
  {
   "cell_type": "code",
   "execution_count": 9,
   "id": "e49fbdf6-945a-42c5-9e9c-7dddff8e4561",
   "metadata": {
    "tags": []
   },
   "outputs": [],
   "source": [
    "from keras.models import Sequential\n",
    "from keras.layers import Dense\n",
    "from keras.utils import np_utils\n",
    "from sklearn.preprocessing import LabelEncoder\n",
    "from sklearn.model_selection import cross_val_score, KFold\n",
    "import numpy as np\n",
    "import pandas as pd\n",
    "np.random.seed(7)\n",
    "df = pd.read_csv(\"gs://training_prebuilt_container/IRIS.csv\")\n",
    "# df"
   ]
  },
  {
   "cell_type": "code",
   "execution_count": 10,
   "id": "69552266-1e2e-4bf1-a4c5-f5f4b5991435",
   "metadata": {
    "tags": []
   },
   "outputs": [],
   "source": [
    "X = df.drop([\"species\"], axis=1)\n",
    "Y = df['species'].map({'Iris-setosa': 0, 'Iris-versicolor': 1, 'Iris-virginica': 2})"
   ]
  },
  {
   "cell_type": "code",
   "execution_count": 15,
   "id": "75d9039b-7257-455d-9730-fd373a350bf9",
   "metadata": {
    "tags": []
   },
   "outputs": [],
   "source": [
    "# X\n",
    "# Y"
   ]
  },
  {
   "cell_type": "code",
   "execution_count": 23,
   "id": "2aff7002-56c0-49be-a305-5e1b7f6525bb",
   "metadata": {
    "tags": []
   },
   "outputs": [],
   "source": [
    "encoder = LabelEncoder()\n",
    "encoder.fit(Y)\n",
    "encoded_Y = encoder.transform(Y)\n",
    "# encoded_Y\n",
    "\n",
    "dummy_y = np_utils.to_categorical(encoded_Y)\n",
    "# dummy_y"
   ]
  },
  {
   "cell_type": "code",
   "execution_count": 24,
   "id": "3b729a97-6a19-4cd0-a362-fee57c2a332c",
   "metadata": {
    "tags": []
   },
   "outputs": [
    {
     "name": "stderr",
     "output_type": "stream",
     "text": [
      "2025-06-14 07:59:59.973857: W tensorflow/stream_executor/platform/default/dso_loader.cc:64] Could not load dynamic library 'libcuda.so.1'; dlerror: libcuda.so.1: cannot open shared object file: No such file or directory; LD_LIBRARY_PATH: /usr/local/cuda/lib64:/usr/local/cuda/lib:/usr/local/lib/x86_64-linux-gnu:/usr/local/nvidia/lib:/usr/local/nvidia/lib64:/usr/local/nvidia/lib:/usr/local/nvidia/lib64\n",
      "2025-06-14 08:00:00.025579: W tensorflow/stream_executor/cuda/cuda_driver.cc:263] failed call to cuInit: UNKNOWN ERROR (303)\n",
      "2025-06-14 08:00:00.025684: I tensorflow/stream_executor/cuda/cuda_diagnostics.cc:156] kernel driver does not appear to be running on this host (a960a75fbc96): /proc/driver/nvidia/version does not exist\n",
      "2025-06-14 08:00:00.045787: I tensorflow/core/platform/cpu_feature_guard.cc:193] This TensorFlow binary is optimized with oneAPI Deep Neural Network Library (oneDNN) to use the following CPU instructions in performance-critical operations:  AVX2 FMA\n",
      "To enable them in other operations, rebuild TensorFlow with the appropriate compiler flags.\n"
     ]
    }
   ],
   "source": [
    "# model 생성\n",
    "model = Sequential()\n",
    "model.add(Dense(8, input_dim=4, activation='relu'))\n",
    "model.add(Dense(3, activation='softmax'))\n",
    "model.compile(loss='categorical_crossentropy', optimizer='adam', metrics=['accuracy'])"
   ]
  },
  {
   "cell_type": "code",
   "execution_count": 25,
   "id": "3e14516d-4678-46b3-b56a-caac65b93d50",
   "metadata": {
    "tags": []
   },
   "outputs": [
    {
     "name": "stdout",
     "output_type": "stream",
     "text": [
      "Epoch 1/150\n",
      "30/30 [==============================] - 2s 2ms/step - loss: 1.6537 - accuracy: 0.3333\n",
      "Epoch 2/150\n",
      "30/30 [==============================] - 0s 1ms/step - loss: 1.4749 - accuracy: 0.3333\n",
      "Epoch 3/150\n",
      "30/30 [==============================] - 0s 1ms/step - loss: 1.3518 - accuracy: 0.3333\n",
      "Epoch 4/150\n",
      "30/30 [==============================] - 0s 1ms/step - loss: 1.2614 - accuracy: 0.3333\n",
      "Epoch 5/150\n",
      "30/30 [==============================] - 0s 1ms/step - loss: 1.1990 - accuracy: 0.3333\n",
      "Epoch 6/150\n",
      "30/30 [==============================] - 0s 1ms/step - loss: 1.1529 - accuracy: 0.3333\n",
      "Epoch 7/150\n",
      "30/30 [==============================] - 0s 1ms/step - loss: 1.1179 - accuracy: 0.3333\n",
      "Epoch 8/150\n",
      "30/30 [==============================] - 0s 1ms/step - loss: 1.0924 - accuracy: 0.3333\n",
      "Epoch 9/150\n",
      "30/30 [==============================] - 0s 1ms/step - loss: 1.0696 - accuracy: 0.3333\n",
      "Epoch 10/150\n",
      "30/30 [==============================] - 0s 1ms/step - loss: 1.0506 - accuracy: 0.3333\n",
      "Epoch 11/150\n",
      "30/30 [==============================] - 0s 1ms/step - loss: 1.0336 - accuracy: 0.3333\n",
      "Epoch 12/150\n",
      "30/30 [==============================] - 0s 1ms/step - loss: 1.0156 - accuracy: 0.3333\n",
      "Epoch 13/150\n",
      "30/30 [==============================] - 0s 1ms/step - loss: 0.9979 - accuracy: 0.3933\n",
      "Epoch 14/150\n",
      "30/30 [==============================] - 0s 1ms/step - loss: 0.9808 - accuracy: 0.5267\n",
      "Epoch 15/150\n",
      "30/30 [==============================] - 0s 1ms/step - loss: 0.9608 - accuracy: 0.5533\n",
      "Epoch 16/150\n",
      "30/30 [==============================] - 0s 1ms/step - loss: 0.9438 - accuracy: 0.6067\n",
      "Epoch 17/150\n",
      "30/30 [==============================] - 0s 1ms/step - loss: 0.9250 - accuracy: 0.6467\n",
      "Epoch 18/150\n",
      "30/30 [==============================] - 0s 1ms/step - loss: 0.9031 - accuracy: 0.6667\n",
      "Epoch 19/150\n",
      "30/30 [==============================] - 0s 1ms/step - loss: 0.8834 - accuracy: 0.6667\n",
      "Epoch 20/150\n",
      "30/30 [==============================] - 0s 1ms/step - loss: 0.8631 - accuracy: 0.6667\n",
      "Epoch 21/150\n",
      "30/30 [==============================] - 0s 1ms/step - loss: 0.8415 - accuracy: 0.6600\n",
      "Epoch 22/150\n",
      "30/30 [==============================] - 0s 1ms/step - loss: 0.8181 - accuracy: 0.6667\n",
      "Epoch 23/150\n",
      "30/30 [==============================] - 0s 1ms/step - loss: 0.7987 - accuracy: 0.6667\n",
      "Epoch 24/150\n",
      "30/30 [==============================] - 0s 1ms/step - loss: 0.7814 - accuracy: 0.6667\n",
      "Epoch 25/150\n",
      "30/30 [==============================] - 0s 1ms/step - loss: 0.7632 - accuracy: 0.6667\n",
      "Epoch 26/150\n",
      "30/30 [==============================] - 0s 1ms/step - loss: 0.7472 - accuracy: 0.6667\n",
      "Epoch 27/150\n",
      "30/30 [==============================] - 0s 1ms/step - loss: 0.7305 - accuracy: 0.6667\n",
      "Epoch 28/150\n",
      "30/30 [==============================] - 0s 1ms/step - loss: 0.7147 - accuracy: 0.6667\n",
      "Epoch 29/150\n",
      "30/30 [==============================] - 0s 1ms/step - loss: 0.6998 - accuracy: 0.6667\n",
      "Epoch 30/150\n",
      "30/30 [==============================] - 0s 1ms/step - loss: 0.6847 - accuracy: 0.6667\n",
      "Epoch 31/150\n",
      "30/30 [==============================] - 0s 1ms/step - loss: 0.6697 - accuracy: 0.6667\n",
      "Epoch 32/150\n",
      "30/30 [==============================] - 0s 1ms/step - loss: 0.6563 - accuracy: 0.6667\n",
      "Epoch 33/150\n",
      "30/30 [==============================] - 0s 1ms/step - loss: 0.6426 - accuracy: 0.6667\n",
      "Epoch 34/150\n",
      "30/30 [==============================] - 0s 1ms/step - loss: 0.6284 - accuracy: 0.6667\n",
      "Epoch 35/150\n",
      "30/30 [==============================] - 0s 1ms/step - loss: 0.6164 - accuracy: 0.6667\n",
      "Epoch 36/150\n",
      "30/30 [==============================] - 0s 1ms/step - loss: 0.6032 - accuracy: 0.6667\n",
      "Epoch 37/150\n",
      "30/30 [==============================] - 0s 1ms/step - loss: 0.5915 - accuracy: 0.6733\n",
      "Epoch 38/150\n",
      "30/30 [==============================] - 0s 1ms/step - loss: 0.5798 - accuracy: 0.6800\n",
      "Epoch 39/150\n",
      "30/30 [==============================] - 0s 1ms/step - loss: 0.5684 - accuracy: 0.6867\n",
      "Epoch 40/150\n",
      "30/30 [==============================] - 0s 1ms/step - loss: 0.5583 - accuracy: 0.6867\n",
      "Epoch 41/150\n",
      "30/30 [==============================] - 0s 1ms/step - loss: 0.5483 - accuracy: 0.6867\n",
      "Epoch 42/150\n",
      "30/30 [==============================] - 0s 1ms/step - loss: 0.5391 - accuracy: 0.7000\n",
      "Epoch 43/150\n",
      "30/30 [==============================] - 0s 1ms/step - loss: 0.5294 - accuracy: 0.7000\n",
      "Epoch 44/150\n",
      "30/30 [==============================] - 0s 1ms/step - loss: 0.5209 - accuracy: 0.7133\n",
      "Epoch 45/150\n",
      "30/30 [==============================] - 0s 1ms/step - loss: 0.5131 - accuracy: 0.7133\n",
      "Epoch 46/150\n",
      "30/30 [==============================] - 0s 1ms/step - loss: 0.5052 - accuracy: 0.7133\n",
      "Epoch 47/150\n",
      "30/30 [==============================] - 0s 1ms/step - loss: 0.4969 - accuracy: 0.7600\n",
      "Epoch 48/150\n",
      "30/30 [==============================] - 0s 1ms/step - loss: 0.4900 - accuracy: 0.7800\n",
      "Epoch 49/150\n",
      "30/30 [==============================] - 0s 1ms/step - loss: 0.4827 - accuracy: 0.7800\n",
      "Epoch 50/150\n",
      "30/30 [==============================] - 0s 1ms/step - loss: 0.4759 - accuracy: 0.8000\n",
      "Epoch 51/150\n",
      "30/30 [==============================] - 0s 1ms/step - loss: 0.4703 - accuracy: 0.8200\n",
      "Epoch 52/150\n",
      "30/30 [==============================] - 0s 1ms/step - loss: 0.4626 - accuracy: 0.8133\n",
      "Epoch 53/150\n",
      "30/30 [==============================] - 0s 1ms/step - loss: 0.4583 - accuracy: 0.8333\n",
      "Epoch 54/150\n",
      "30/30 [==============================] - 0s 1ms/step - loss: 0.4521 - accuracy: 0.8400\n",
      "Epoch 55/150\n",
      "30/30 [==============================] - 0s 1ms/step - loss: 0.4451 - accuracy: 0.8400\n",
      "Epoch 56/150\n",
      "30/30 [==============================] - 0s 1ms/step - loss: 0.4404 - accuracy: 0.8133\n",
      "Epoch 57/150\n",
      "30/30 [==============================] - 0s 1ms/step - loss: 0.4352 - accuracy: 0.8400\n",
      "Epoch 58/150\n",
      "30/30 [==============================] - 0s 1ms/step - loss: 0.4289 - accuracy: 0.8800\n",
      "Epoch 59/150\n",
      "30/30 [==============================] - 0s 1ms/step - loss: 0.4246 - accuracy: 0.9200\n",
      "Epoch 60/150\n",
      "30/30 [==============================] - 0s 1ms/step - loss: 0.4194 - accuracy: 0.9000\n",
      "Epoch 61/150\n",
      "30/30 [==============================] - 0s 1ms/step - loss: 0.4151 - accuracy: 0.8733\n",
      "Epoch 62/150\n",
      "30/30 [==============================] - 0s 1ms/step - loss: 0.4108 - accuracy: 0.9133\n",
      "Epoch 63/150\n",
      "30/30 [==============================] - 0s 1ms/step - loss: 0.4049 - accuracy: 0.9200\n",
      "Epoch 64/150\n",
      "30/30 [==============================] - 0s 1ms/step - loss: 0.4013 - accuracy: 0.9333\n",
      "Epoch 65/150\n",
      "30/30 [==============================] - 0s 1ms/step - loss: 0.3962 - accuracy: 0.9000\n",
      "Epoch 66/150\n",
      "30/30 [==============================] - 0s 1ms/step - loss: 0.3931 - accuracy: 0.9200\n",
      "Epoch 67/150\n",
      "30/30 [==============================] - 0s 1ms/step - loss: 0.3872 - accuracy: 0.9533\n",
      "Epoch 68/150\n",
      "30/30 [==============================] - 0s 1ms/step - loss: 0.3824 - accuracy: 0.9600\n",
      "Epoch 69/150\n",
      "30/30 [==============================] - 0s 1ms/step - loss: 0.3786 - accuracy: 0.9333\n",
      "Epoch 70/150\n",
      "30/30 [==============================] - 0s 1ms/step - loss: 0.3754 - accuracy: 0.9600\n",
      "Epoch 71/150\n",
      "30/30 [==============================] - 0s 1ms/step - loss: 0.3711 - accuracy: 0.9467\n",
      "Epoch 72/150\n",
      "30/30 [==============================] - 0s 1ms/step - loss: 0.3664 - accuracy: 0.9400\n",
      "Epoch 73/150\n",
      "30/30 [==============================] - 0s 1ms/step - loss: 0.3638 - accuracy: 0.9600\n",
      "Epoch 74/150\n",
      "30/30 [==============================] - 0s 1ms/step - loss: 0.3609 - accuracy: 0.9267\n",
      "Epoch 75/150\n",
      "30/30 [==============================] - 0s 1ms/step - loss: 0.3536 - accuracy: 0.9667\n",
      "Epoch 76/150\n",
      "30/30 [==============================] - 0s 1ms/step - loss: 0.3524 - accuracy: 0.9667\n",
      "Epoch 77/150\n",
      "30/30 [==============================] - 0s 1ms/step - loss: 0.3455 - accuracy: 0.9667\n",
      "Epoch 78/150\n",
      "30/30 [==============================] - 0s 1ms/step - loss: 0.3428 - accuracy: 0.9667\n",
      "Epoch 79/150\n",
      "30/30 [==============================] - 0s 1ms/step - loss: 0.3392 - accuracy: 0.9667\n",
      "Epoch 80/150\n",
      "30/30 [==============================] - 0s 1ms/step - loss: 0.3363 - accuracy: 0.9733\n",
      "Epoch 81/150\n",
      "30/30 [==============================] - 0s 1ms/step - loss: 0.3310 - accuracy: 0.9600\n",
      "Epoch 82/150\n",
      "30/30 [==============================] - 0s 1ms/step - loss: 0.3290 - accuracy: 0.9867\n",
      "Epoch 83/150\n",
      "30/30 [==============================] - 0s 1ms/step - loss: 0.3237 - accuracy: 0.9600\n",
      "Epoch 84/150\n",
      "30/30 [==============================] - 0s 1ms/step - loss: 0.3200 - accuracy: 0.9667\n",
      "Epoch 85/150\n",
      "30/30 [==============================] - 0s 1ms/step - loss: 0.3171 - accuracy: 0.9667\n",
      "Epoch 86/150\n",
      "30/30 [==============================] - 0s 1ms/step - loss: 0.3139 - accuracy: 0.9800\n",
      "Epoch 87/150\n",
      "30/30 [==============================] - 0s 1ms/step - loss: 0.3150 - accuracy: 0.9400\n",
      "Epoch 88/150\n",
      "30/30 [==============================] - 0s 1ms/step - loss: 0.3065 - accuracy: 0.9733\n",
      "Epoch 89/150\n",
      "30/30 [==============================] - 0s 1ms/step - loss: 0.3034 - accuracy: 0.9800\n",
      "Epoch 90/150\n",
      "30/30 [==============================] - 0s 1ms/step - loss: 0.2989 - accuracy: 0.9667\n",
      "Epoch 91/150\n",
      "30/30 [==============================] - 0s 1ms/step - loss: 0.2964 - accuracy: 0.9600\n",
      "Epoch 92/150\n",
      "30/30 [==============================] - 0s 1ms/step - loss: 0.2929 - accuracy: 0.9733\n",
      "Epoch 93/150\n",
      "30/30 [==============================] - 0s 1ms/step - loss: 0.2914 - accuracy: 0.9800\n",
      "Epoch 94/150\n",
      "30/30 [==============================] - 0s 1ms/step - loss: 0.2899 - accuracy: 0.9600\n",
      "Epoch 95/150\n",
      "30/30 [==============================] - 0s 1ms/step - loss: 0.2845 - accuracy: 0.9867\n",
      "Epoch 96/150\n",
      "30/30 [==============================] - 0s 1ms/step - loss: 0.2818 - accuracy: 0.9667\n",
      "Epoch 97/150\n",
      "30/30 [==============================] - 0s 1ms/step - loss: 0.2781 - accuracy: 0.9733\n",
      "Epoch 98/150\n",
      "30/30 [==============================] - 0s 1ms/step - loss: 0.2752 - accuracy: 0.9733\n",
      "Epoch 99/150\n",
      "30/30 [==============================] - 0s 1ms/step - loss: 0.2746 - accuracy: 0.9667\n",
      "Epoch 100/150\n",
      "30/30 [==============================] - 0s 1ms/step - loss: 0.2683 - accuracy: 0.9867\n",
      "Epoch 101/150\n",
      "30/30 [==============================] - 0s 1ms/step - loss: 0.2650 - accuracy: 0.9667\n",
      "Epoch 102/150\n",
      "30/30 [==============================] - 0s 1ms/step - loss: 0.2640 - accuracy: 0.9667\n",
      "Epoch 103/150\n",
      "30/30 [==============================] - 0s 1ms/step - loss: 0.2605 - accuracy: 0.9867\n",
      "Epoch 104/150\n",
      "30/30 [==============================] - 0s 1ms/step - loss: 0.2570 - accuracy: 0.9867\n",
      "Epoch 105/150\n",
      "30/30 [==============================] - 0s 1ms/step - loss: 0.2557 - accuracy: 0.9800\n",
      "Epoch 106/150\n",
      "30/30 [==============================] - 0s 1ms/step - loss: 0.2520 - accuracy: 0.9733\n",
      "Epoch 107/150\n",
      "30/30 [==============================] - 0s 1ms/step - loss: 0.2520 - accuracy: 0.9733\n",
      "Epoch 108/150\n",
      "30/30 [==============================] - 0s 1ms/step - loss: 0.2475 - accuracy: 0.9800\n",
      "Epoch 109/150\n",
      "30/30 [==============================] - 0s 1ms/step - loss: 0.2439 - accuracy: 0.9800\n",
      "Epoch 110/150\n",
      "30/30 [==============================] - 0s 1ms/step - loss: 0.2428 - accuracy: 0.9800\n",
      "Epoch 111/150\n",
      "30/30 [==============================] - 0s 1ms/step - loss: 0.2385 - accuracy: 0.9867\n",
      "Epoch 112/150\n",
      "30/30 [==============================] - 0s 1ms/step - loss: 0.2385 - accuracy: 0.9800\n",
      "Epoch 113/150\n",
      "30/30 [==============================] - 0s 1ms/step - loss: 0.2342 - accuracy: 0.9733\n",
      "Epoch 114/150\n",
      "30/30 [==============================] - 0s 1ms/step - loss: 0.2317 - accuracy: 0.9733\n",
      "Epoch 115/150\n",
      "30/30 [==============================] - 0s 1ms/step - loss: 0.2316 - accuracy: 0.9800\n",
      "Epoch 116/150\n",
      "30/30 [==============================] - 0s 1ms/step - loss: 0.2273 - accuracy: 0.9800\n",
      "Epoch 117/150\n",
      "30/30 [==============================] - 0s 1ms/step - loss: 0.2248 - accuracy: 0.9800\n",
      "Epoch 118/150\n",
      "30/30 [==============================] - 0s 1ms/step - loss: 0.2225 - accuracy: 0.9800\n",
      "Epoch 119/150\n",
      "30/30 [==============================] - 0s 1ms/step - loss: 0.2201 - accuracy: 0.9733\n",
      "Epoch 120/150\n",
      "30/30 [==============================] - 0s 1ms/step - loss: 0.2184 - accuracy: 0.9867\n",
      "Epoch 121/150\n",
      "30/30 [==============================] - 0s 1ms/step - loss: 0.2159 - accuracy: 0.9800\n",
      "Epoch 122/150\n",
      "30/30 [==============================] - 0s 1ms/step - loss: 0.2151 - accuracy: 0.9800\n",
      "Epoch 123/150\n",
      "30/30 [==============================] - 0s 1ms/step - loss: 0.2121 - accuracy: 0.9800\n",
      "Epoch 124/150\n",
      "30/30 [==============================] - 0s 1ms/step - loss: 0.2093 - accuracy: 0.9867\n",
      "Epoch 125/150\n",
      "30/30 [==============================] - 0s 1ms/step - loss: 0.2068 - accuracy: 0.9800\n",
      "Epoch 126/150\n",
      "30/30 [==============================] - 0s 1ms/step - loss: 0.2055 - accuracy: 0.9800\n",
      "Epoch 127/150\n",
      "30/30 [==============================] - 0s 1ms/step - loss: 0.2030 - accuracy: 0.9867\n",
      "Epoch 128/150\n",
      "30/30 [==============================] - 0s 1ms/step - loss: 0.2026 - accuracy: 0.9867\n",
      "Epoch 129/150\n",
      "30/30 [==============================] - 0s 1ms/step - loss: 0.1997 - accuracy: 0.9800\n",
      "Epoch 130/150\n",
      "30/30 [==============================] - 0s 1ms/step - loss: 0.1977 - accuracy: 0.9733\n",
      "Epoch 131/150\n",
      "30/30 [==============================] - 0s 1ms/step - loss: 0.1953 - accuracy: 0.9800\n",
      "Epoch 132/150\n",
      "30/30 [==============================] - 0s 1ms/step - loss: 0.1957 - accuracy: 0.9800\n",
      "Epoch 133/150\n",
      "30/30 [==============================] - 0s 1ms/step - loss: 0.1932 - accuracy: 0.9800\n",
      "Epoch 134/150\n",
      "30/30 [==============================] - 0s 1ms/step - loss: 0.1902 - accuracy: 0.9867\n",
      "Epoch 135/150\n",
      "30/30 [==============================] - 0s 1ms/step - loss: 0.1918 - accuracy: 0.9800\n",
      "Epoch 136/150\n",
      "30/30 [==============================] - 0s 1ms/step - loss: 0.1929 - accuracy: 0.9600\n",
      "Epoch 137/150\n",
      "30/30 [==============================] - 0s 1ms/step - loss: 0.1865 - accuracy: 0.9733\n",
      "Epoch 138/150\n",
      "30/30 [==============================] - 0s 1ms/step - loss: 0.1841 - accuracy: 0.9800\n",
      "Epoch 139/150\n",
      "30/30 [==============================] - 0s 1ms/step - loss: 0.1836 - accuracy: 0.9800\n",
      "Epoch 140/150\n",
      "30/30 [==============================] - 0s 1ms/step - loss: 0.1799 - accuracy: 0.9867\n",
      "Epoch 141/150\n",
      "30/30 [==============================] - 0s 1ms/step - loss: 0.1801 - accuracy: 0.9733\n",
      "Epoch 142/150\n",
      "30/30 [==============================] - 0s 1ms/step - loss: 0.1785 - accuracy: 0.9733\n",
      "Epoch 143/150\n",
      "30/30 [==============================] - 0s 1ms/step - loss: 0.1758 - accuracy: 0.9800\n",
      "Epoch 144/150\n",
      "30/30 [==============================] - 0s 1ms/step - loss: 0.1760 - accuracy: 0.9733\n",
      "Epoch 145/150\n",
      "30/30 [==============================] - 0s 1ms/step - loss: 0.1732 - accuracy: 0.9800\n",
      "Epoch 146/150\n",
      "30/30 [==============================] - 0s 1ms/step - loss: 0.1709 - accuracy: 0.9867\n",
      "Epoch 147/150\n",
      "30/30 [==============================] - 0s 1ms/step - loss: 0.1712 - accuracy: 0.9800\n",
      "Epoch 148/150\n",
      "30/30 [==============================] - 0s 1ms/step - loss: 0.1685 - accuracy: 0.9867\n",
      "Epoch 149/150\n",
      "30/30 [==============================] - 0s 1ms/step - loss: 0.1670 - accuracy: 0.9800\n",
      "Epoch 150/150\n",
      "30/30 [==============================] - 0s 1ms/step - loss: 0.1668 - accuracy: 0.9800\n"
     ]
    },
    {
     "data": {
      "text/plain": [
       "<keras.callbacks.History at 0x7f85bb26d7b0>"
      ]
     },
     "execution_count": 25,
     "metadata": {},
     "output_type": "execute_result"
    }
   ],
   "source": [
    "model.fit(X, dummy_y, epochs=150, batch_size=5)"
   ]
  },
  {
   "cell_type": "code",
   "execution_count": 26,
   "id": "0488c377-c224-4030-b051-a1bcb4f716e0",
   "metadata": {
    "tags": []
   },
   "outputs": [
    {
     "name": "stdout",
     "output_type": "stream",
     "text": [
      "5/5 [==============================] - 0s 2ms/step - loss: 0.1642 - accuracy: 0.9800\n",
      "\n",
      "accuracy: 98.00%\n"
     ]
    }
   ],
   "source": [
    "# model 정확도 평가\n",
    "scores = model.evaluate(X, dummy_y)\n",
    "print(\"\\n%s: %.2f%%\" % (model.metrics_names[1], scores[1]*100))"
   ]
  },
  {
   "cell_type": "code",
   "execution_count": 27,
   "id": "6346b04e-14c6-4644-9b4b-678d0693fbcf",
   "metadata": {
    "tags": []
   },
   "outputs": [
    {
     "name": "stdout",
     "output_type": "stream",
     "text": [
      "5/5 [==============================] - 0s 2ms/step\n"
     ]
    }
   ],
   "source": [
    "predictions = model.predict(X)"
   ]
  },
  {
   "cell_type": "code",
   "execution_count": 29,
   "id": "900f16d3-7035-45a3-aa13-2f1097337a82",
   "metadata": {
    "tags": []
   },
   "outputs": [
    {
     "data": {
      "text/plain": [
       "array([0, 0, 0, 0, 0, 0, 0, 0, 0, 0, 0, 0, 0, 0, 0, 0, 0, 0, 0, 0, 0, 0,\n",
       "       0, 0, 0, 0, 0, 0, 0, 0, 0, 0, 0, 0, 0, 0, 0, 0, 0, 0, 0, 0, 0, 0,\n",
       "       0, 0, 0, 0, 0, 0, 1, 1, 1, 1, 1, 1, 1, 1, 1, 1, 1, 1, 1, 1, 1, 1,\n",
       "       1, 1, 1, 1, 2, 1, 1, 1, 1, 1, 1, 1, 1, 1, 1, 1, 1, 2, 1, 1, 1, 1,\n",
       "       1, 1, 1, 1, 1, 1, 1, 1, 1, 1, 1, 1, 2, 2, 2, 2, 2, 2, 2, 2, 2, 2,\n",
       "       2, 2, 2, 2, 2, 2, 2, 2, 2, 2, 2, 2, 2, 2, 2, 2, 2, 2, 2, 2, 2, 2,\n",
       "       2, 1, 2, 2, 2, 2, 2, 2, 2, 2, 2, 2, 2, 2, 2, 2, 2, 2])"
      ]
     },
     "execution_count": 29,
     "metadata": {},
     "output_type": "execute_result"
    }
   ],
   "source": [
    "test = np.argmax(predictions, axis=1)\n",
    "test"
   ]
  },
  {
   "cell_type": "code",
   "execution_count": 30,
   "id": "6dcff02e-d26a-4720-b2c6-6a91a2c166e1",
   "metadata": {
    "tags": []
   },
   "outputs": [
    {
     "name": "stdout",
     "output_type": "stream",
     "text": [
      "INFO:tensorflow:Assets written to: gs://training_prebuilt_container/model_output/assets\n"
     ]
    }
   ],
   "source": [
    "# model save(하지만 사용안하므로 영상에서는 다시 삭제함)\n",
    "model.save(\"gs://training_prebuilt_container/model_output\")"
   ]
  }
 ],
 "metadata": {
  "kernelspec": {
   "display_name": "TensorFlow 2.10 (Local)",
   "language": "python",
   "name": "tf2-2-10"
  },
  "language_info": {
   "codemirror_mode": {
    "name": "ipython",
    "version": 3
   },
   "file_extension": ".py",
   "mimetype": "text/x-python",
   "name": "python",
   "nbconvert_exporter": "python",
   "pygments_lexer": "ipython3",
   "version": "3.10.16"
  }
 },
 "nbformat": 4,
 "nbformat_minor": 5
}
